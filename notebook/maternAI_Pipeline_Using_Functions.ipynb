{
  "nbformat": 4,
  "nbformat_minor": 0,
  "metadata": {
    "colab": {
      "provenance": []
    },
    "kernelspec": {
      "name": "python3",
      "display_name": "Python 3"
    },
    "language_info": {
      "name": "python"
    }
  },
  "cells": [
    {
      "cell_type": "markdown",
      "source": [
        "**LOAD DATASET**"
      ],
      "metadata": {
        "id": "ZGN_mhQ9a6CT"
      }
    },
    {
      "cell_type": "code",
      "source": [
        "from google.colab import files\n",
        "uploaded = files.upload()"
      ],
      "metadata": {
        "colab": {
          "base_uri": "https://localhost:8080/",
          "height": 73
        },
        "id": "GATHahmZa1cf",
        "outputId": "76e5be1f-46e8-4722-cba1-3b86d81d0900"
      },
      "execution_count": 22,
      "outputs": [
        {
          "output_type": "display_data",
          "data": {
            "text/plain": [
              "<IPython.core.display.HTML object>"
            ],
            "text/html": [
              "\n",
              "     <input type=\"file\" id=\"files-dfd7707f-3725-478b-91a4-6a74c3830f9d\" name=\"files[]\" multiple disabled\n",
              "        style=\"border:none\" />\n",
              "     <output id=\"result-dfd7707f-3725-478b-91a4-6a74c3830f9d\">\n",
              "      Upload widget is only available when the cell has been executed in the\n",
              "      current browser session. Please rerun this cell to enable.\n",
              "      </output>\n",
              "      <script>// Copyright 2017 Google LLC\n",
              "//\n",
              "// Licensed under the Apache License, Version 2.0 (the \"License\");\n",
              "// you may not use this file except in compliance with the License.\n",
              "// You may obtain a copy of the License at\n",
              "//\n",
              "//      http://www.apache.org/licenses/LICENSE-2.0\n",
              "//\n",
              "// Unless required by applicable law or agreed to in writing, software\n",
              "// distributed under the License is distributed on an \"AS IS\" BASIS,\n",
              "// WITHOUT WARRANTIES OR CONDITIONS OF ANY KIND, either express or implied.\n",
              "// See the License for the specific language governing permissions and\n",
              "// limitations under the License.\n",
              "\n",
              "/**\n",
              " * @fileoverview Helpers for google.colab Python module.\n",
              " */\n",
              "(function(scope) {\n",
              "function span(text, styleAttributes = {}) {\n",
              "  const element = document.createElement('span');\n",
              "  element.textContent = text;\n",
              "  for (const key of Object.keys(styleAttributes)) {\n",
              "    element.style[key] = styleAttributes[key];\n",
              "  }\n",
              "  return element;\n",
              "}\n",
              "\n",
              "// Max number of bytes which will be uploaded at a time.\n",
              "const MAX_PAYLOAD_SIZE = 100 * 1024;\n",
              "\n",
              "function _uploadFiles(inputId, outputId) {\n",
              "  const steps = uploadFilesStep(inputId, outputId);\n",
              "  const outputElement = document.getElementById(outputId);\n",
              "  // Cache steps on the outputElement to make it available for the next call\n",
              "  // to uploadFilesContinue from Python.\n",
              "  outputElement.steps = steps;\n",
              "\n",
              "  return _uploadFilesContinue(outputId);\n",
              "}\n",
              "\n",
              "// This is roughly an async generator (not supported in the browser yet),\n",
              "// where there are multiple asynchronous steps and the Python side is going\n",
              "// to poll for completion of each step.\n",
              "// This uses a Promise to block the python side on completion of each step,\n",
              "// then passes the result of the previous step as the input to the next step.\n",
              "function _uploadFilesContinue(outputId) {\n",
              "  const outputElement = document.getElementById(outputId);\n",
              "  const steps = outputElement.steps;\n",
              "\n",
              "  const next = steps.next(outputElement.lastPromiseValue);\n",
              "  return Promise.resolve(next.value.promise).then((value) => {\n",
              "    // Cache the last promise value to make it available to the next\n",
              "    // step of the generator.\n",
              "    outputElement.lastPromiseValue = value;\n",
              "    return next.value.response;\n",
              "  });\n",
              "}\n",
              "\n",
              "/**\n",
              " * Generator function which is called between each async step of the upload\n",
              " * process.\n",
              " * @param {string} inputId Element ID of the input file picker element.\n",
              " * @param {string} outputId Element ID of the output display.\n",
              " * @return {!Iterable<!Object>} Iterable of next steps.\n",
              " */\n",
              "function* uploadFilesStep(inputId, outputId) {\n",
              "  const inputElement = document.getElementById(inputId);\n",
              "  inputElement.disabled = false;\n",
              "\n",
              "  const outputElement = document.getElementById(outputId);\n",
              "  outputElement.innerHTML = '';\n",
              "\n",
              "  const pickedPromise = new Promise((resolve) => {\n",
              "    inputElement.addEventListener('change', (e) => {\n",
              "      resolve(e.target.files);\n",
              "    });\n",
              "  });\n",
              "\n",
              "  const cancel = document.createElement('button');\n",
              "  inputElement.parentElement.appendChild(cancel);\n",
              "  cancel.textContent = 'Cancel upload';\n",
              "  const cancelPromise = new Promise((resolve) => {\n",
              "    cancel.onclick = () => {\n",
              "      resolve(null);\n",
              "    };\n",
              "  });\n",
              "\n",
              "  // Wait for the user to pick the files.\n",
              "  const files = yield {\n",
              "    promise: Promise.race([pickedPromise, cancelPromise]),\n",
              "    response: {\n",
              "      action: 'starting',\n",
              "    }\n",
              "  };\n",
              "\n",
              "  cancel.remove();\n",
              "\n",
              "  // Disable the input element since further picks are not allowed.\n",
              "  inputElement.disabled = true;\n",
              "\n",
              "  if (!files) {\n",
              "    return {\n",
              "      response: {\n",
              "        action: 'complete',\n",
              "      }\n",
              "    };\n",
              "  }\n",
              "\n",
              "  for (const file of files) {\n",
              "    const li = document.createElement('li');\n",
              "    li.append(span(file.name, {fontWeight: 'bold'}));\n",
              "    li.append(span(\n",
              "        `(${file.type || 'n/a'}) - ${file.size} bytes, ` +\n",
              "        `last modified: ${\n",
              "            file.lastModifiedDate ? file.lastModifiedDate.toLocaleDateString() :\n",
              "                                    'n/a'} - `));\n",
              "    const percent = span('0% done');\n",
              "    li.appendChild(percent);\n",
              "\n",
              "    outputElement.appendChild(li);\n",
              "\n",
              "    const fileDataPromise = new Promise((resolve) => {\n",
              "      const reader = new FileReader();\n",
              "      reader.onload = (e) => {\n",
              "        resolve(e.target.result);\n",
              "      };\n",
              "      reader.readAsArrayBuffer(file);\n",
              "    });\n",
              "    // Wait for the data to be ready.\n",
              "    let fileData = yield {\n",
              "      promise: fileDataPromise,\n",
              "      response: {\n",
              "        action: 'continue',\n",
              "      }\n",
              "    };\n",
              "\n",
              "    // Use a chunked sending to avoid message size limits. See b/62115660.\n",
              "    let position = 0;\n",
              "    do {\n",
              "      const length = Math.min(fileData.byteLength - position, MAX_PAYLOAD_SIZE);\n",
              "      const chunk = new Uint8Array(fileData, position, length);\n",
              "      position += length;\n",
              "\n",
              "      const base64 = btoa(String.fromCharCode.apply(null, chunk));\n",
              "      yield {\n",
              "        response: {\n",
              "          action: 'append',\n",
              "          file: file.name,\n",
              "          data: base64,\n",
              "        },\n",
              "      };\n",
              "\n",
              "      let percentDone = fileData.byteLength === 0 ?\n",
              "          100 :\n",
              "          Math.round((position / fileData.byteLength) * 100);\n",
              "      percent.textContent = `${percentDone}% done`;\n",
              "\n",
              "    } while (position < fileData.byteLength);\n",
              "  }\n",
              "\n",
              "  // All done.\n",
              "  yield {\n",
              "    response: {\n",
              "      action: 'complete',\n",
              "    }\n",
              "  };\n",
              "}\n",
              "\n",
              "scope.google = scope.google || {};\n",
              "scope.google.colab = scope.google.colab || {};\n",
              "scope.google.colab._files = {\n",
              "  _uploadFiles,\n",
              "  _uploadFilesContinue,\n",
              "};\n",
              "})(self);\n",
              "</script> "
            ]
          },
          "metadata": {}
        },
        {
          "output_type": "stream",
          "name": "stdout",
          "text": [
            "Saving Maternal Health Risk Data Set.csv to Maternal Health Risk Data Set (1).csv\n"
          ]
        }
      ]
    },
    {
      "cell_type": "markdown",
      "source": [
        "**PRE-PROCESSING FUNCTION**"
      ],
      "metadata": {
        "id": "6H5bqIieaPjX"
      }
    },
    {
      "cell_type": "code",
      "source": [
        "import pandas as pd\n",
        "import numpy as np\n",
        "import seaborn as sns\n",
        "import matplotlib.pyplot as plt\n",
        "from sklearn.model_selection import train_test_split\n",
        "from sklearn.preprocessing import StandardScaler\n",
        "from imblearn.over_sampling import SMOTE\n",
        "\n",
        "def load_data(file_path):\n",
        "    #Loads dataset from a CSV file\n",
        "    df = pd.read_csv(file_path)\n",
        "    return df\n",
        "\n",
        "def preprocess_data(df):\n",
        "    # Handles missing values, encodes labels, and removes outliers\n",
        "    df[\"RiskLevel\"] = df[\"RiskLevel\"].replace({\"high risk\": 2, \"mid risk\": 1, \"low risk\": 0})\n",
        "\n",
        "    Q1 = df.quantile(0.25)\n",
        "    Q3 = df.quantile(0.75)\n",
        "    IQR = Q3 - Q1\n",
        "\n",
        "    df_no_outliers = df.copy()\n",
        "    for column in df.columns:\n",
        "        lower_bound = Q1[column] - 1.5 * IQR[column]\n",
        "        upper_bound = Q3[column] + 1.5 * IQR[column]\n",
        "        df_no_outliers[column] = np.where(df[column] < lower_bound, lower_bound, df_no_outliers[column])\n",
        "        df_no_outliers[column] = np.where(df[column] > upper_bound, upper_bound, df_no_outliers[column])\n",
        "\n",
        "    return df_no_outliers\n",
        "\n",
        "def split_and_balance_data(df):\n",
        "    # Splits dataset into training, validation, and test sets, and applies SMOTE\n",
        "    X = df.drop('RiskLevel', axis = 1)\n",
        "    y = df['RiskLevel']\n",
        "\n",
        "    X_train, X_test, y_train, y_test = train_test_split(X, y, test_size = 0.2, random_state = 42, stratify = y)\n",
        "    X_train, X_val, y_train, y_val = train_test_split(X_train, y_train, test_size = 0.2, random_state = 42, stratify = y_train)\n",
        "\n",
        "    smote = SMOTE(sampling_strategy = {0: 406}, random_state = 42)\n",
        "    X_train_resampled, y_train_resampled = smote.fit_resample(X_train, y_train)\n",
        "\n",
        "    scaler = StandardScaler()\n",
        "    X_train_resampled_scaled = scaler.fit_transform(X_train_resampled)\n",
        "    X_val_scaled = scaler.transform(X_val)\n",
        "    X_test_scaled = scaler.transform(X_test)\n",
        "\n",
        "    return X_train_resampled_scaled, X_val_scaled, X_test_scaled, y_train_resampled, y_val, y_test, scaler"
      ],
      "metadata": {
        "id": "DhtfbqQcZ1E1"
      },
      "execution_count": 24,
      "outputs": []
    },
    {
      "cell_type": "markdown",
      "source": [
        "**MODEL FUNCTION**"
      ],
      "metadata": {
        "id": "5A3Ku_XnbxsI"
      }
    },
    {
      "cell_type": "code",
      "source": [
        "import os\n",
        "import joblib\n",
        "import numpy as np\n",
        "import matplotlib.pyplot as plt\n",
        "import seaborn as sns\n",
        "from sklearn.ensemble import RandomForestClassifier\n",
        "from sklearn.metrics import accuracy_score, confusion_matrix, classification_report\n",
        "\n",
        "dataset_path = \"Maternal Health Risk Data Set.csv\"\n",
        "df = load_data(dataset_path)\n",
        "df_cleaned = preprocess_data(df)\n",
        "X_train, X_val, X_test, y_train, y_val, y_test, scaler = split_and_balance_data(df_cleaned)\n",
        "\n",
        "def train_model(X_train, y_train):\n",
        "    #Trains a RandomForest model and returns the trained model\n",
        "    model = RandomForestClassifier(n_estimators = 100, random_state = 42)\n",
        "    model.fit(X_train, y_train)\n",
        "    return model\n",
        "\n",
        "def evaluate_model(model, X_train, X_val, X_test, y_train, y_val, y_test):\n",
        "    #Evaluates the model's accuracy and displays a confusion matrix\n",
        "    train_accuracy = accuracy_score(y_train, model.predict(X_train))\n",
        "    val_accuracy = accuracy_score(y_val, model.predict(X_val))\n",
        "    test_accuracy = accuracy_score(y_test, model.predict(X_test))\n",
        "\n",
        "    print(\"\\nModel Performance Summary:\")\n",
        "    print(f\"Training Accuracy: {train_accuracy:.4f}\")\n",
        "    print(f\"Validation Accuracy: {val_accuracy:.4f}\")\n",
        "    print(f\"Test Accuracy: {test_accuracy:.4f}\")\n",
        "\n",
        "    print(\"\\nClassification Report:\\n\", classification_report(y_test, model.predict(X_test), zero_division = 1))\n",
        "\n",
        "    conf_matrix = confusion_matrix(y_test, model.predict(X_test))\n",
        "    plt.figure(figsize = (6, 4))\n",
        "    sns.heatmap(conf_matrix, annot=True, fmt = \"d\", cmap = \"Blues\")\n",
        "    plt.title(\"Confusion Matrix - Test Set\")\n",
        "    plt.xlabel(\"Predicted\")\n",
        "    plt.ylabel(\"Actual\")\n",
        "    plt.show()\n",
        "\n",
        "def save_model(model, scaler, model_dir=\"models\"):\n",
        "    # Saves the trained model and scaler inside the maternAI/model directory\n",
        "    os.makedirs(model_dir, exist_ok = True)\n",
        "    joblib.dump(model, os.path.join(model_dir, \"random_forest_maternal_health.pkl\"))\n",
        "    joblib.dump(scaler, os.path.join(model_dir, \"scaler.pkl\"))\n",
        "    print(f\"Model and scaler saved successfully in {model_dir}!\")\n",
        "\n",
        "model = train_model(X_train, y_train)\n",
        "evaluate_model(model, X_train, X_val, X_test, y_train, y_val, y_test)\n",
        "save_model(model, scaler)"
      ],
      "metadata": {
        "colab": {
          "base_uri": "https://localhost:8080/",
          "height": 777
        },
        "id": "x-u7K_38Z4ut",
        "outputId": "4ac89697-f2f7-4696-d2d9-cb50eb6ef705"
      },
      "execution_count": 25,
      "outputs": [
        {
          "output_type": "stream",
          "name": "stderr",
          "text": [
            "<ipython-input-24-b3d9de8c8dcf>:16: FutureWarning: Downcasting behavior in `replace` is deprecated and will be removed in a future version. To retain the old behavior, explicitly call `result.infer_objects(copy=False)`. To opt-in to the future behavior, set `pd.set_option('future.no_silent_downcasting', True)`\n",
            "  df[\"RiskLevel\"] = df[\"RiskLevel\"].replace({\"high risk\": 2, \"mid risk\": 1, \"low risk\": 0})\n"
          ]
        },
        {
          "output_type": "stream",
          "name": "stdout",
          "text": [
            "\n",
            "Model Performance Summary:\n",
            "Training Accuracy: 0.9395\n",
            "Validation Accuracy: 0.8528\n",
            "Test Accuracy: 0.8325\n",
            "\n",
            "Classification Report:\n",
            "               precision    recall  f1-score   support\n",
            "\n",
            "         0.0       0.85      0.83      0.84        81\n",
            "         1.0       0.80      0.76      0.78        67\n",
            "         2.0       0.85      0.93      0.89        55\n",
            "\n",
            "    accuracy                           0.83       203\n",
            "   macro avg       0.83      0.84      0.83       203\n",
            "weighted avg       0.83      0.83      0.83       203\n",
            "\n"
          ]
        },
        {
          "output_type": "display_data",
          "data": {
            "text/plain": [
              "<Figure size 600x400 with 2 Axes>"
            ],
            "image/png": "[encoded data removed]"
          },
          "metadata": {}
        },
        {
          "output_type": "stream",
          "name": "stdout",
          "text": [
            "Model and scaler saved successfully in models!\n"
          ]
        }
      ]
    },
    {
      "cell_type": "markdown",
      "source": [
        "**PREDICTION FUNCTION**"
      ],
      "metadata": {
        "id": "XlwQnfxdb1jx"
      }
    },
    {
      "cell_type": "code",
      "source": [
        "import numpy as np\n",
        "import pandas as pd\n",
        "import joblib\n",
        "\n",
        "def load_model(model_path = \"models/random_forest_maternal_health.pkl\", scaler_path = \"models/scaler.pkl\"):\n",
        "    # Loads the trained model and scaler\n",
        "    model = joblib.load(model_path)\n",
        "    scaler = joblib.load(scaler_path)\n",
        "    print(\"Model and scaler loaded successfully!\")\n",
        "    return model, scaler\n",
        "\n",
        "def make_prediction(model, scaler, sample):\n",
        "    #Takes a raw input sample, applies scaling, and predicts the risk level\n",
        "    feature_names = [\"Age\", \"SystolicBP\", \"DiastolicBP\", \"BS\", \"BodyTemp\", \"HeartRate\"]\n",
        "\n",
        "    sample_df = pd.DataFrame([sample], columns = feature_names)\n",
        "    sample_scaled = scaler.transform(sample_df)\n",
        "\n",
        "    predicted_risk_numeric = model.predict(sample_scaled)[0]\n",
        "    risk_mapping = {0: \"low risk\", 1: \"mid risk\", 2: \"high risk\"}\n",
        "\n",
        "    return risk_mapping[predicted_risk_numeric]\n",
        "\n",
        "if __name__ == \"__main__\":\n",
        "    model, scaler = load_model()\n",
        "    sample = [25, 140, 80, 6.5, 98, 80]  # Example input, You can experiment with different values\n",
        "    predicted_risk = make_prediction(model, scaler, sample)\n",
        "    print(f\"Predicted Risk Level: {predicted_risk}\")"
      ],
      "metadata": {
        "colab": {
          "base_uri": "https://localhost:8080/"
        },
        "id": "4b2OPfdraBr7",
        "outputId": "1ab0f243-ed3c-48f2-c97f-4d77435d196d"
      },
      "execution_count": 28,
      "outputs": [
        {
          "output_type": "stream",
          "name": "stdout",
          "text": [
            "Model and scaler loaded successfully!\n",
            "Predicted Risk Level: high risk\n"
          ]
        }
      ]
    }
  ]
}